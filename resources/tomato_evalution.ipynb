{
 "cells": [
  {
   "cell_type": "code",
   "execution_count": 1,
   "metadata": {},
   "outputs": [
    {
     "name": "stderr",
     "output_type": "stream",
     "text": [
      "2023-01-21 10:17:36.336814: I tensorflow/core/platform/cpu_feature_guard.cc:193] This TensorFlow binary is optimized with oneAPI Deep Neural Network Library (oneDNN) to use the following CPU instructions in performance-critical operations:  AVX2 FMA\n",
      "To enable them in other operations, rebuild TensorFlow with the appropriate compiler flags.\n"
     ]
    }
   ],
   "source": [
    "import tensorflow as tf\n",
    "import numpy as np\n",
    "\n",
    "BATCH_SIZE = 100\n",
    "IMG_HEIGHT = 224\n",
    "IMG_WIDTH = 224"
   ]
  },
  {
   "cell_type": "code",
   "execution_count": 2,
   "metadata": {},
   "outputs": [],
   "source": [
    "# we need to specify the classes we would be looking for to \n",
    "# the imagedata generators\n",
    "classes = [\n",
    "    'Tomato___Late_blight',\n",
    "'Tomato___healthy',\n",
    "'Tomato___Early_blight',\n",
    "'Tomato___Septoria_leaf_spot',\n",
    "'Tomato___Tomato_Yellow_Leaf_Curl_Virus',\n",
    "'Tomato___Bacterial_spot',\n",
    "'Tomato___Target_Spot',\n",
    "'Tomato___Tomato_mosaic_virus',\n",
    "'Tomato___Leaf_Mold',\n",
    "'Tomato___Spider_mites Two-spotted_spider_mite'\n",
    "]"
   ]
  },
  {
   "cell_type": "code",
   "execution_count": 3,
   "metadata": {},
   "outputs": [
    {
     "name": "stdout",
     "output_type": "stream",
     "text": [
      "Found 10000 images belonging to 10 classes.\n",
      "Found 1000 images belonging to 10 classes.\n"
     ]
    }
   ],
   "source": [
    "from keras.preprocessing.image import ImageDataGenerator\n",
    "train_dir = '/Users/msughter/Downloads/tomato/train'\n",
    "validation_dir = '/Users/msughter/Downloads/tomato/val'\n",
    "# Image datagenerator\n",
    "train_datagen = ImageDataGenerator(\n",
    "    rescale=1./255,\n",
    "    shear_range=0.2,\n",
    "    zoom_range=0.2,\n",
    "    horizontal_flip=True\n",
    ")\n",
    "\n",
    "validation_datagen = ImageDataGenerator(rescale=1./255)\n",
    "\n",
    "train_datagenerator = train_datagen.flow_from_directory(\n",
    "     train_dir,\n",
    "        batch_size=BATCH_SIZE,\n",
    "        shuffle=True,\n",
    "        target_size=(IMG_HEIGHT, IMG_WIDTH),\n",
    "        classes = classes,\n",
    ")\n",
    "\n",
    "validation_datagenerator = validation_datagen.flow_from_directory(\n",
    "    validation_dir,\n",
    "     target_size=(IMG_HEIGHT, IMG_WIDTH),\n",
    "        classes = classes,\n",
    "        batch_size=BATCH_SIZE\n",
    ")"
   ]
  },
  {
   "cell_type": "code",
   "execution_count": 4,
   "metadata": {},
   "outputs": [
    {
     "name": "stderr",
     "output_type": "stream",
     "text": [
      "2023-01-21 10:20:22.460541: I tensorflow/core/platform/cpu_feature_guard.cc:193] This TensorFlow binary is optimized with oneAPI Deep Neural Network Library (oneDNN) to use the following CPU instructions in performance-critical operations:  AVX2 FMA\n",
      "To enable them in other operations, rebuild TensorFlow with the appropriate compiler flags.\n"
     ]
    }
   ],
   "source": [
    "# load the model for evaluation\n",
    "model = tf.keras.models.load_model('model_1.h5')"
   ]
  },
  {
   "cell_type": "code",
   "execution_count": 5,
   "metadata": {},
   "outputs": [
    {
     "name": "stderr",
     "output_type": "stream",
     "text": [
      "/Users/msughter/projects/denv/lib/python3.10/site-packages/keras/backend.py:5534: UserWarning: \"`categorical_crossentropy` received `from_logits=True`, but the `output` argument was produced by a Softmax activation and thus does not represent logits. Was this intended?\n",
      "  output, from_logits = _get_logits(\n"
     ]
    },
    {
     "name": "stdout",
     "output_type": "stream",
     "text": [
      "10/10 [==============================] - 20s 2s/step - loss: 0.2258 - accuracy: 0.9330\n"
     ]
    },
    {
     "data": {
      "text/plain": [
       "[0.22584418952465057, 0.9330000281333923]"
      ]
     },
     "execution_count": 5,
     "metadata": {},
     "output_type": "execute_result"
    }
   ],
   "source": [
    "model.evaluate(validation_datagenerator)"
   ]
  },
  {
   "cell_type": "code",
   "execution_count": 8,
   "metadata": {},
   "outputs": [],
   "source": [
    "def getData(generator, iterations):\n",
    "    features = []\n",
    "    labels = []\n",
    "    i = 1\n",
    "    for _,(image_batch,label_batch) in enumerate(generator):\n",
    "        if i > iterations:\n",
    "            break\n",
    "        print(f'extracting features for batch.....{i}')\n",
    "        for img, label in zip(image_batch,label_batch):\n",
    "            features.append(img)\n",
    "            labels.append(label)\n",
    "        i+=1\n",
    "    return features, labels"
   ]
  },
  {
   "cell_type": "code",
   "execution_count": 9,
   "metadata": {},
   "outputs": [
    {
     "name": "stdout",
     "output_type": "stream",
     "text": [
      "extracting features for batch.....1\n",
      "extracting features for batch.....2\n",
      "extracting features for batch.....3\n",
      "extracting features for batch.....4\n",
      "extracting features for batch.....5\n"
     ]
    }
   ],
   "source": [
    "# get 500 images for testing\n",
    "train_x, train_y = getData(validation_datagenerator,5)"
   ]
  },
  {
   "cell_type": "code",
   "execution_count": 10,
   "metadata": {},
   "outputs": [],
   "source": [
    "# importing some evaluation metrics\n",
    "from sklearn.metrics import accuracy_score\n",
    "from sklearn.metrics import f1_score\n",
    "from sklearn.metrics import confusion_matrix,ConfusionMatrixDisplay"
   ]
  },
  {
   "cell_type": "code",
   "execution_count": 16,
   "metadata": {},
   "outputs": [
    {
     "name": "stdout",
     "output_type": "stream",
     "text": [
      "16/16 [==============================] - 10s 633ms/step\n"
     ]
    }
   ],
   "source": [
    "predictions = model.predict(np.array(train_x))"
   ]
  },
  {
   "cell_type": "code",
   "execution_count": 17,
   "metadata": {},
   "outputs": [
    {
     "data": {
      "text/plain": [
       "500"
      ]
     },
     "execution_count": 17,
     "metadata": {},
     "output_type": "execute_result"
    }
   ],
   "source": [
    "len(predictions)"
   ]
  },
  {
   "cell_type": "code",
   "execution_count": 23,
   "metadata": {},
   "outputs": [
    {
     "data": {
      "text/plain": [
       "4"
      ]
     },
     "execution_count": 23,
     "metadata": {},
     "output_type": "execute_result"
    }
   ],
   "source": [
    "# reshape predictions and targets\n",
    "new_predictions = np.argmax(predictions,axis=1)\n",
    "new_test_y = np.argmax(train_y,axis=1)\n",
    "\n",
    "new_test_y[10]"
   ]
  },
  {
   "cell_type": "code",
   "execution_count": 27,
   "metadata": {},
   "outputs": [],
   "source": [
    "# get the labels to be used in the confusion\n",
    "uniques_predictions = np.unique(new_predictions)\n",
    "unique_test_y = np.unique(new_test_y)\n",
    "labels=list(set(uniques_predictions).union(set(unique_test_y)))"
   ]
  },
  {
   "cell_type": "code",
   "execution_count": 29,
   "metadata": {},
   "outputs": [],
   "source": [
    "cm = confusion_matrix(new_test_y,new_predictions,labels=labels)"
   ]
  },
  {
   "cell_type": "code",
   "execution_count": 30,
   "metadata": {},
   "outputs": [],
   "source": [
    "disp = ConfusionMatrixDisplay(confusion_matrix=cm,display_labels=labels)"
   ]
  },
  {
   "cell_type": "code",
   "execution_count": 31,
   "metadata": {},
   "outputs": [
    {
     "data": {
      "text/plain": [
       "<sklearn.metrics._plot.confusion_matrix.ConfusionMatrixDisplay at 0x168582bc0>"
      ]
     },
     "execution_count": 31,
     "metadata": {},
     "output_type": "execute_result"
    },
    {
     "data": {
      "image/png": "[encoded data removed]",
      "text/plain": [
       "<Figure size 640x480 with 2 Axes>"
      ]
     },
     "metadata": {},
     "output_type": "display_data"
    }
   ],
   "source": [
    "# plot the confusion matrix\n",
    "disp.plot()"
   ]
  },
  {
   "cell_type": "code",
   "execution_count": 35,
   "metadata": {},
   "outputs": [
    {
     "name": "stdout",
     "output_type": "stream",
     "text": [
      "                                               precision    recall  f1-score   support\n",
      "\n",
      "                         Tomato___Late_blight       0.78      1.00      0.88        58\n",
      "                             Tomato___healthy       0.96      1.00      0.98        47\n",
      "                        Tomato___Early_blight       1.00      0.70      0.82        57\n",
      "                  Tomato___Septoria_leaf_spot       0.98      0.98      0.98        44\n",
      "       Tomato___Tomato_Yellow_Leaf_Curl_Virus       0.96      1.00      0.98        49\n",
      "                      Tomato___Bacterial_spot       1.00      1.00      1.00        47\n",
      "                         Tomato___Target_Spot       0.98      0.90      0.94        52\n",
      "                 Tomato___Tomato_mosaic_virus       0.98      0.96      0.97        50\n",
      "                           Tomato___Leaf_Mold       0.94      1.00      0.97        51\n",
      "Tomato___Spider_mites Two-spotted_spider_mite       0.98      0.96      0.97        45\n",
      "\n",
      "                                     accuracy                           0.95       500\n",
      "                                    macro avg       0.96      0.95      0.95       500\n",
      "                                 weighted avg       0.95      0.95      0.94       500\n",
      "\n"
     ]
    }
   ],
   "source": [
    "from sklearn.metrics import classification_report\n",
    "report = classification_report(new_test_y,new_predictions,target_names=classes)\n",
    "print(report)"
   ]
  },
  {
   "cell_type": "code",
   "execution_count": null,
   "metadata": {},
   "outputs": [],
   "source": []
  }
 ],
 "metadata": {
  "kernelspec": {
   "display_name": "Python 3.10.0 ('denv')",
   "language": "python",
   "name": "python3"
  },
  "language_info": {
   "codemirror_mode": {
    "name": "ipython",
    "version": 3
   },
   "file_extension": ".py",
   "mimetype": "text/x-python",
   "name": "python",
   "nbconvert_exporter": "python",
   "pygments_lexer": "ipython3",
   "version": "3.10.0"
  },
  "orig_nbformat": 4,
  "vscode": {
   "interpreter": {
    "hash": "85e466930f78b5c738745cd368c669bb6879dc86f20ed3d9ed4bb9c0741072e4"
   }
  }
 },
 "nbformat": 4,
 "nbformat_minor": 2
}
