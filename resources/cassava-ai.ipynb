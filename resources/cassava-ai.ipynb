{
 "cells": [
  {
   "cell_type": "code",
   "execution_count": 1,
   "id": "3be04e3e",
   "metadata": {
    "_cell_guid": "b1076dfc-b9ad-4769-8c92-a6c4dae69d19",
    "_uuid": "8f2839f25d086af736a60e9eeb907d3b93b6e0e5",
    "execution": {
     "iopub.execute_input": "2023-01-14T17:01:59.084990Z",
     "iopub.status.busy": "2023-01-14T17:01:59.083946Z",
     "iopub.status.idle": "2023-01-14T17:02:03.361822Z",
     "shell.execute_reply": "2023-01-14T17:02:03.360831Z"
    },
    "papermill": {
     "duration": 4.285516,
     "end_time": "2023-01-14T17:02:03.364430",
     "exception": false,
     "start_time": "2023-01-14T17:01:59.078914",
     "status": "completed"
    },
    "tags": []
   },
   "outputs": [],
   "source": [
    "import numpy as np # linear algebra\n",
    "import pandas as pd \n",
    "import tensorflow as tf\n",
    "import matplotlib.pyplot as plt"
   ]
  },
  {
   "cell_type": "code",
   "execution_count": 2,
   "id": "84afde3a",
   "metadata": {
    "execution": {
     "iopub.execute_input": "2023-01-14T17:02:03.372986Z",
     "iopub.status.busy": "2023-01-14T17:02:03.371098Z",
     "iopub.status.idle": "2023-01-14T17:02:04.089706Z",
     "shell.execute_reply": "2023-01-14T17:02:04.088594Z"
    },
    "papermill": {
     "duration": 0.725061,
     "end_time": "2023-01-14T17:02:04.092511",
     "exception": false,
     "start_time": "2023-01-14T17:02:03.367450",
     "status": "completed"
    },
    "tags": []
   },
   "outputs": [],
   "source": [
    "import seaborn as sns\n",
    "from sklearn.model_selection import train_test_split\n",
    "from sklearn.metrics import accuracy_score"
   ]
  },
  {
   "cell_type": "code",
   "execution_count": 3,
   "id": "f8340da8",
   "metadata": {
    "execution": {
     "iopub.execute_input": "2023-01-14T17:02:04.100249Z",
     "iopub.status.busy": "2023-01-14T17:02:04.099898Z",
     "iopub.status.idle": "2023-01-14T17:02:04.105376Z",
     "shell.execute_reply": "2023-01-14T17:02:04.104280Z"
    },
    "papermill": {
     "duration": 0.01217,
     "end_time": "2023-01-14T17:02:04.107989",
     "exception": false,
     "start_time": "2023-01-14T17:02:04.095819",
     "status": "completed"
    },
    "tags": []
   },
   "outputs": [],
   "source": [
    "class CFG:    \n",
    "    # config\n",
    "    WORK_DIR = '../input/cassava-leaf-disease-classification'\n",
    "    BATCH_SIZE = 32\n",
    "    EPOCHS = 10\n",
    "    TARGET_SIZE = 512"
   ]
  },
  {
   "cell_type": "code",
   "execution_count": 4,
   "id": "652b6a25",
   "metadata": {
    "execution": {
     "iopub.execute_input": "2023-01-14T17:02:04.115072Z",
     "iopub.status.busy": "2023-01-14T17:02:04.114822Z",
     "iopub.status.idle": "2023-01-14T17:02:04.305706Z",
     "shell.execute_reply": "2023-01-14T17:02:04.304607Z"
    },
    "papermill": {
     "duration": 0.198403,
     "end_time": "2023-01-14T17:02:04.309097",
     "exception": false,
     "start_time": "2023-01-14T17:02:04.110694",
     "status": "completed"
    },
    "tags": []
   },
   "outputs": [
    {
     "data": {
      "text/html": [
       "<div>\n",
       "<style scoped>\n",
       "    .dataframe tbody tr th:only-of-type {\n",
       "        vertical-align: middle;\n",
       "    }\n",
       "\n",
       "    .dataframe tbody tr th {\n",
       "        vertical-align: top;\n",
       "    }\n",
       "\n",
       "    .dataframe thead th {\n",
       "        text-align: right;\n",
       "    }\n",
       "</style>\n",
       "<table border=\"1\" class=\"dataframe\">\n",
       "  <thead>\n",
       "    <tr style=\"text-align: right;\">\n",
       "      <th></th>\n",
       "      <th>image_id</th>\n",
       "      <th>label</th>\n",
       "    </tr>\n",
       "  </thead>\n",
       "  <tbody>\n",
       "    <tr>\n",
       "      <th>0</th>\n",
       "      <td>1000015157.jpg</td>\n",
       "      <td>0</td>\n",
       "    </tr>\n",
       "    <tr>\n",
       "      <th>1</th>\n",
       "      <td>1000201771.jpg</td>\n",
       "      <td>3</td>\n",
       "    </tr>\n",
       "    <tr>\n",
       "      <th>2</th>\n",
       "      <td>100042118.jpg</td>\n",
       "      <td>1</td>\n",
       "    </tr>\n",
       "    <tr>\n",
       "      <th>3</th>\n",
       "      <td>1000723321.jpg</td>\n",
       "      <td>1</td>\n",
       "    </tr>\n",
       "    <tr>\n",
       "      <th>4</th>\n",
       "      <td>1000812911.jpg</td>\n",
       "      <td>3</td>\n",
       "    </tr>\n",
       "  </tbody>\n",
       "</table>\n",
       "</div>"
      ],
      "text/plain": [
       "         image_id  label\n",
       "0  1000015157.jpg      0\n",
       "1  1000201771.jpg      3\n",
       "2   100042118.jpg      1\n",
       "3  1000723321.jpg      1\n",
       "4  1000812911.jpg      3"
      ]
     },
     "execution_count": 4,
     "metadata": {},
     "output_type": "execute_result"
    }
   ],
   "source": [
    "import os\n",
    "train_labels = pd.read_csv(os.path.join(CFG.WORK_DIR, \"train.csv\"))\n",
    "\n",
    "STEPS_PER_EPOCH = len(train_labels)*0.8 / CFG.BATCH_SIZE\n",
    "VALIDATION_STEPS = len(train_labels)*0.2 / CFG.BATCH_SIZE\n",
    "\n",
    "    \n",
    "train_labels.head()"
   ]
  },
  {
   "cell_type": "code",
   "execution_count": 5,
   "id": "44406039",
   "metadata": {
    "execution": {
     "iopub.execute_input": "2023-01-14T17:02:04.316282Z",
     "iopub.status.busy": "2023-01-14T17:02:04.315972Z",
     "iopub.status.idle": "2023-01-14T17:02:37.513686Z",
     "shell.execute_reply": "2023-01-14T17:02:37.512649Z"
    },
    "papermill": {
     "duration": 33.206142,
     "end_time": "2023-01-14T17:02:37.518322",
     "exception": false,
     "start_time": "2023-01-14T17:02:04.312180",
     "status": "completed"
    },
    "tags": []
   },
   "outputs": [
    {
     "name": "stdout",
     "output_type": "stream",
     "text": [
      "Found 17118 validated image filenames belonging to 5 classes.\n",
      "Found 4279 validated image filenames belonging to 5 classes.\n"
     ]
    }
   ],
   "source": [
    "from tensorflow.keras.preprocessing.image import ImageDataGenerator\n",
    "train_labels.label = train_labels.label.astype('str')\n",
    "train_labels.label = train_labels.label.astype('str')\n",
    "\n",
    "train_datagen = ImageDataGenerator(validation_split = 0.2, preprocessing_function = None,\n",
    "                                     rotation_range = 45, zoom_range = 0.2,\n",
    "                                     horizontal_flip = True, vertical_flip = True,\n",
    "                                     fill_mode = 'nearest', shear_range = 0.1,\n",
    "                                     height_shift_range = 0.1, width_shift_range = 0.1)\n",
    "\n",
    "train_generator = train_datagen.flow_from_dataframe(train_labels, directory = os.path.join(CFG.WORK_DIR, \"train_images\"),\n",
    "                         subset = \"training\", x_col = \"image_id\",\n",
    "                         y_col = \"label\", target_size = (CFG.TARGET_SIZE, CFG.TARGET_SIZE),\n",
    "                         batch_size = CFG.BATCH_SIZE, class_mode = \"sparse\")\n",
    "\n",
    "\n",
    "validation_datagen = ImageDataGenerator(validation_split = 0.2)\n",
    "\n",
    "validation_generator = validation_datagen.flow_from_dataframe(train_labels,\n",
    "                         directory = os.path.join(CFG.WORK_DIR, \"train_images\"),\n",
    "                         subset = \"validation\", x_col = \"image_id\",\n",
    "                         y_col = \"label\", target_size = (CFG.TARGET_SIZE, CFG.TARGET_SIZE),\n",
    "                         batch_size = CFG.BATCH_SIZE, class_mode = \"sparse\")"
   ]
  },
  {
   "cell_type": "code",
   "execution_count": 6,
   "id": "c129f0cc",
   "metadata": {
    "execution": {
     "iopub.execute_input": "2023-01-14T17:02:37.525907Z",
     "iopub.status.busy": "2023-01-14T17:02:37.524950Z",
     "iopub.status.idle": "2023-01-14T17:02:41.340227Z",
     "shell.execute_reply": "2023-01-14T17:02:41.339253Z"
    },
    "papermill": {
     "duration": 3.821315,
     "end_time": "2023-01-14T17:02:41.342539",
     "exception": false,
     "start_time": "2023-01-14T17:02:37.521224",
     "status": "completed"
    },
    "tags": []
   },
   "outputs": [
    {
     "name": "stderr",
     "output_type": "stream",
     "text": [
      "2023-01-14 17:02:37.628748: I tensorflow/stream_executor/cuda/cuda_gpu_executor.cc:937] successful NUMA node read from SysFS had negative value (-1), but there must be at least one NUMA node, so returning NUMA node zero\n",
      "2023-01-14 17:02:37.722240: I tensorflow/stream_executor/cuda/cuda_gpu_executor.cc:937] successful NUMA node read from SysFS had negative value (-1), but there must be at least one NUMA node, so returning NUMA node zero\n",
      "2023-01-14 17:02:37.723042: I tensorflow/stream_executor/cuda/cuda_gpu_executor.cc:937] successful NUMA node read from SysFS had negative value (-1), but there must be at least one NUMA node, so returning NUMA node zero\n",
      "2023-01-14 17:02:37.724995: I tensorflow/core/platform/cpu_feature_guard.cc:142] This TensorFlow binary is optimized with oneAPI Deep Neural Network Library (oneDNN) to use the following CPU instructions in performance-critical operations:  AVX2 AVX512F FMA\n",
      "To enable them in other operations, rebuild TensorFlow with the appropriate compiler flags.\n",
      "2023-01-14 17:02:37.725450: I tensorflow/stream_executor/cuda/cuda_gpu_executor.cc:937] successful NUMA node read from SysFS had negative value (-1), but there must be at least one NUMA node, so returning NUMA node zero\n",
      "2023-01-14 17:02:37.726526: I tensorflow/stream_executor/cuda/cuda_gpu_executor.cc:937] successful NUMA node read from SysFS had negative value (-1), but there must be at least one NUMA node, so returning NUMA node zero\n",
      "2023-01-14 17:02:37.727419: I tensorflow/stream_executor/cuda/cuda_gpu_executor.cc:937] successful NUMA node read from SysFS had negative value (-1), but there must be at least one NUMA node, so returning NUMA node zero\n",
      "2023-01-14 17:02:39.896006: I tensorflow/stream_executor/cuda/cuda_gpu_executor.cc:937] successful NUMA node read from SysFS had negative value (-1), but there must be at least one NUMA node, so returning NUMA node zero\n",
      "2023-01-14 17:02:39.896876: I tensorflow/stream_executor/cuda/cuda_gpu_executor.cc:937] successful NUMA node read from SysFS had negative value (-1), but there must be at least one NUMA node, so returning NUMA node zero\n",
      "2023-01-14 17:02:39.897554: I tensorflow/stream_executor/cuda/cuda_gpu_executor.cc:937] successful NUMA node read from SysFS had negative value (-1), but there must be at least one NUMA node, so returning NUMA node zero\n",
      "2023-01-14 17:02:39.898165: I tensorflow/core/common_runtime/gpu/gpu_device.cc:1510] Created device /job:localhost/replica:0/task:0/device:GPU:0 with 15401 MB memory:  -> device: 0, name: Tesla P100-PCIE-16GB, pci bus id: 0000:00:04.0, compute capability: 6.0\n"
     ]
    },
    {
     "name": "stdout",
     "output_type": "stream",
     "text": [
      "Downloading data from https://storage.googleapis.com/tensorflow/keras-applications/mobilenet_v2/mobilenet_v2_weights_tf_dim_ordering_tf_kernels_1.0_224_no_top.h5\n",
      "9412608/9406464 [==============================] - 0s 0us/step\n",
      "9420800/9406464 [==============================] - 0s 0us/step\n"
     ]
    }
   ],
   "source": [
    "from tensorflow.keras.applications.mobilenet_v2 import MobileNetV2\n",
    "#initialise base model\n",
    "IMG_SHAPE = (CFG.TARGET_SIZE, CFG.TARGET_SIZE, 3)\n",
    "base_model = MobileNetV2(input_shape=IMG_SHAPE, input_tensor=None,\n",
    "                                                include_top=False, \n",
    "                                                weights='imagenet')\n",
    "base_model.trainable = True"
   ]
  },
  {
   "cell_type": "code",
   "execution_count": 7,
   "id": "0ddc1a28",
   "metadata": {
    "execution": {
     "iopub.execute_input": "2023-01-14T17:02:41.351359Z",
     "iopub.status.busy": "2023-01-14T17:02:41.350436Z",
     "iopub.status.idle": "2023-01-14T17:02:41.711915Z",
     "shell.execute_reply": "2023-01-14T17:02:41.710871Z"
    },
    "papermill": {
     "duration": 0.368994,
     "end_time": "2023-01-14T17:02:41.715178",
     "exception": false,
     "start_time": "2023-01-14T17:02:41.346184",
     "status": "completed"
    },
    "tags": []
   },
   "outputs": [
    {
     "name": "stdout",
     "output_type": "stream",
     "text": [
      "Model: \"sequential\"\n",
      "_________________________________________________________________\n",
      "Layer (type)                 Output Shape              Param #   \n",
      "=================================================================\n",
      "mobilenetv2_1.00_224 (Functi (None, 16, 16, 1280)      2257984   \n",
      "_________________________________________________________________\n",
      "global_average_pooling2d (Gl (None, 1280)              0         \n",
      "_________________________________________________________________\n",
      "dense (Dense)                (None, 320)               409920    \n",
      "_________________________________________________________________\n",
      "dropout (Dropout)            (None, 320)               0         \n",
      "_________________________________________________________________\n",
      "dense_1 (Dense)              (None, 320)               102720    \n",
      "_________________________________________________________________\n",
      "dropout_1 (Dropout)          (None, 320)               0         \n",
      "_________________________________________________________________\n",
      "dense_2 (Dense)              (None, 38)                12198     \n",
      "_________________________________________________________________\n",
      "dense_3 (Dense)              (None, 5)                 195       \n",
      "=================================================================\n",
      "Total params: 2,783,017\n",
      "Trainable params: 2,748,905\n",
      "Non-trainable params: 34,112\n",
      "_________________________________________________________________\n",
      "None\n"
     ]
    }
   ],
   "source": [
    "#define model\n",
    "model = tf.keras.Sequential()\n",
    "model.add(base_model)\n",
    "model.add(tf.keras.layers.GlobalAveragePooling2D())\n",
    "model.add(tf.keras.layers.Dense(320, activation='relu'))\n",
    "model.add(tf.keras.layers.Dropout(0.2))\n",
    "model.add(tf.keras.layers.Dense(320, activation='relu'))\n",
    "model.add(tf.keras.layers.Dropout(0.2))\n",
    "model.add(tf.keras.layers.Dense(38, activation='relu'))\n",
    "model.add(tf.keras.layers.Dense(5,activation='softmax'))\n",
    "print(model.summary())"
   ]
  },
  {
   "cell_type": "code",
   "execution_count": 8,
   "id": "4b8e4997",
   "metadata": {
    "execution": {
     "iopub.execute_input": "2023-01-14T17:02:41.724334Z",
     "iopub.status.busy": "2023-01-14T17:02:41.723479Z",
     "iopub.status.idle": "2023-01-14T20:47:53.642612Z",
     "shell.execute_reply": "2023-01-14T20:47:53.641558Z"
    },
    "papermill": {
     "duration": 13511.926183,
     "end_time": "2023-01-14T20:47:53.645436",
     "exception": false,
     "start_time": "2023-01-14T17:02:41.719253",
     "status": "completed"
    },
    "tags": []
   },
   "outputs": [
    {
     "name": "stderr",
     "output_type": "stream",
     "text": [
      "2023-01-14 17:02:44.059227: I tensorflow/compiler/mlir/mlir_graph_optimization_pass.cc:185] None of the MLIR Optimization Passes are enabled (registered 2)\n"
     ]
    },
    {
     "name": "stdout",
     "output_type": "stream",
     "text": [
      "Epoch 1/10\n"
     ]
    },
    {
     "name": "stderr",
     "output_type": "stream",
     "text": [
      "2023-01-14 17:02:51.443082: I tensorflow/stream_executor/cuda/cuda_dnn.cc:369] Loaded cuDNN version 8005\n"
     ]
    },
    {
     "name": "stdout",
     "output_type": "stream",
     "text": [
      "535/535 [==============================] - 1454s 3s/step - loss: 0.8003 - accuracy: 0.6968 - val_loss: 1.0334 - val_accuracy: 0.6948\n"
     ]
    },
    {
     "name": "stderr",
     "output_type": "stream",
     "text": [
      "2023-01-14 17:27:08.350281: W tensorflow/python/util/util.cc:348] Sets are not currently considered sequences, but this may change in the future, so consider avoiding using them.\n",
      "/opt/conda/lib/python3.7/site-packages/keras/utils/generic_utils.py:497: CustomMaskWarning: Custom mask layers require a config and must override get_config. When loading, the custom mask layer must be passed to the custom_objects argument.\n",
      "  category=CustomMaskWarning)\n"
     ]
    },
    {
     "name": "stdout",
     "output_type": "stream",
     "text": [
      "Epoch 2/10\n",
      "535/535 [==============================] - 1309s 2s/step - loss: 0.4906 - accuracy: 0.8313 - val_loss: 0.7597 - val_accuracy: 0.7822\n"
     ]
    },
    {
     "name": "stderr",
     "output_type": "stream",
     "text": [
      "/opt/conda/lib/python3.7/site-packages/keras/utils/generic_utils.py:497: CustomMaskWarning: Custom mask layers require a config and must override get_config. When loading, the custom mask layer must be passed to the custom_objects argument.\n",
      "  category=CustomMaskWarning)\n"
     ]
    },
    {
     "name": "stdout",
     "output_type": "stream",
     "text": [
      "Epoch 3/10\n",
      "535/535 [==============================] - 1293s 2s/step - loss: 0.4334 - accuracy: 0.8510 - val_loss: 0.6521 - val_accuracy: 0.8086\n"
     ]
    },
    {
     "name": "stderr",
     "output_type": "stream",
     "text": [
      "/opt/conda/lib/python3.7/site-packages/keras/utils/generic_utils.py:497: CustomMaskWarning: Custom mask layers require a config and must override get_config. When loading, the custom mask layer must be passed to the custom_objects argument.\n",
      "  category=CustomMaskWarning)\n"
     ]
    },
    {
     "name": "stdout",
     "output_type": "stream",
     "text": [
      "Epoch 4/10\n",
      "535/535 [==============================] - 1305s 2s/step - loss: 0.3986 - accuracy: 0.8639 - val_loss: 0.6535 - val_accuracy: 0.8252\n"
     ]
    },
    {
     "name": "stderr",
     "output_type": "stream",
     "text": [
      "/opt/conda/lib/python3.7/site-packages/keras/utils/generic_utils.py:497: CustomMaskWarning: Custom mask layers require a config and must override get_config. When loading, the custom mask layer must be passed to the custom_objects argument.\n",
      "  category=CustomMaskWarning)\n"
     ]
    },
    {
     "name": "stdout",
     "output_type": "stream",
     "text": [
      "Epoch 5/10\n",
      "535/535 [==============================] - 1298s 2s/step - loss: 0.3767 - accuracy: 0.8696 - val_loss: 0.4580 - val_accuracy: 0.8602\n"
     ]
    },
    {
     "name": "stderr",
     "output_type": "stream",
     "text": [
      "/opt/conda/lib/python3.7/site-packages/keras/utils/generic_utils.py:497: CustomMaskWarning: Custom mask layers require a config and must override get_config. When loading, the custom mask layer must be passed to the custom_objects argument.\n",
      "  category=CustomMaskWarning)\n"
     ]
    },
    {
     "name": "stdout",
     "output_type": "stream",
     "text": [
      "Epoch 6/10\n",
      "535/535 [==============================] - 1303s 2s/step - loss: 0.3676 - accuracy: 0.8730 - val_loss: 0.5314 - val_accuracy: 0.8495\n"
     ]
    },
    {
     "name": "stderr",
     "output_type": "stream",
     "text": [
      "/opt/conda/lib/python3.7/site-packages/keras/utils/generic_utils.py:497: CustomMaskWarning: Custom mask layers require a config and must override get_config. When loading, the custom mask layer must be passed to the custom_objects argument.\n",
      "  category=CustomMaskWarning)\n"
     ]
    },
    {
     "name": "stdout",
     "output_type": "stream",
     "text": [
      "Epoch 7/10\n",
      "535/535 [==============================] - 1305s 2s/step - loss: 0.3576 - accuracy: 0.8795 - val_loss: 0.5510 - val_accuracy: 0.8387\n"
     ]
    },
    {
     "name": "stderr",
     "output_type": "stream",
     "text": [
      "/opt/conda/lib/python3.7/site-packages/keras/utils/generic_utils.py:497: CustomMaskWarning: Custom mask layers require a config and must override get_config. When loading, the custom mask layer must be passed to the custom_objects argument.\n",
      "  category=CustomMaskWarning)\n"
     ]
    },
    {
     "name": "stdout",
     "output_type": "stream",
     "text": [
      "Epoch 8/10\n",
      "535/535 [==============================] - 1326s 2s/step - loss: 0.3373 - accuracy: 0.8845 - val_loss: 0.4237 - val_accuracy: 0.8642\n",
      "\n",
      "Epoch 00008: ReduceLROnPlateau reducing learning rate to 0.0002500000118743628.\n"
     ]
    },
    {
     "name": "stderr",
     "output_type": "stream",
     "text": [
      "/opt/conda/lib/python3.7/site-packages/keras/utils/generic_utils.py:497: CustomMaskWarning: Custom mask layers require a config and must override get_config. When loading, the custom mask layer must be passed to the custom_objects argument.\n",
      "  category=CustomMaskWarning)\n"
     ]
    },
    {
     "name": "stdout",
     "output_type": "stream",
     "text": [
      "Epoch 9/10\n",
      "535/535 [==============================] - 1332s 2s/step - loss: 0.3157 - accuracy: 0.8906 - val_loss: 0.3921 - val_accuracy: 0.8729\n"
     ]
    },
    {
     "name": "stderr",
     "output_type": "stream",
     "text": [
      "/opt/conda/lib/python3.7/site-packages/keras/utils/generic_utils.py:497: CustomMaskWarning: Custom mask layers require a config and must override get_config. When loading, the custom mask layer must be passed to the custom_objects argument.\n",
      "  category=CustomMaskWarning)\n"
     ]
    },
    {
     "name": "stdout",
     "output_type": "stream",
     "text": [
      "Epoch 10/10\n",
      "535/535 [==============================] - 1322s 2s/step - loss: 0.3084 - accuracy: 0.8938 - val_loss: 0.3969 - val_accuracy: 0.8698\n"
     ]
    },
    {
     "name": "stderr",
     "output_type": "stream",
     "text": [
      "/opt/conda/lib/python3.7/site-packages/keras/utils/generic_utils.py:497: CustomMaskWarning: Custom mask layers require a config and must override get_config. When loading, the custom mask layer must be passed to the custom_objects argument.\n",
      "  category=CustomMaskWarning)\n"
     ]
    }
   ],
   "source": [
    "#compile model\n",
    "model.compile(optimizer=tf.keras.optimizers.SGD(learning_rate=0.001, momentum=0.9), \n",
    "      loss = \"sparse_categorical_crossentropy\", \n",
    "      metrics=['accuracy'])\n",
    "# Reduce learning rate when there is a change lesser than <min_delta> in <val_accuracy> for more than <patience> epochs\n",
    "reduce_lr = tf.keras.callbacks.ReduceLROnPlateau(monitor = 'val_accuracy',\n",
    "                                                 mode = 'max',\n",
    "                                                 min_delta = 0.01,\n",
    "                                                 patience = 3,\n",
    "                                                 factor = 0.25,\n",
    "                                                 verbose = 1,\n",
    "                                                 cooldown = 0,\n",
    "                                                 min_lr = 0.00000001)\n",
    "\n",
    "# Stop the training process when there is a change lesser than <min_delta> in <val_accuracy> for more than <patience> epochs\n",
    "early_stopper = tf.keras.callbacks.EarlyStopping(monitor = 'val_accuracy',\n",
    "                                                 mode = 'max',\n",
    "                                                 min_delta = 0.005,\n",
    "                                                 patience = 10,\n",
    "                                                 verbose = 1,\n",
    "                                                 restore_best_weights = True)\n",
    "\n",
    "#  Save best model every epoch\n",
    "model_checkpoint = tf.keras.callbacks.ModelCheckpoint('.')\n",
    "#fit the model\n",
    "history = model.fit(train_generator, \n",
    "                    epochs=CFG.EPOCHS,\n",
    "                    validation_data = validation_generator,\n",
    "                    callbacks=[early_stopper, reduce_lr,model_checkpoint])"
   ]
  },
  {
   "cell_type": "code",
   "execution_count": 9,
   "id": "29269a85",
   "metadata": {
    "execution": {
     "iopub.execute_input": "2023-01-14T20:47:54.200953Z",
     "iopub.status.busy": "2023-01-14T20:47:54.200534Z",
     "iopub.status.idle": "2023-01-14T20:47:54.610092Z",
     "shell.execute_reply": "2023-01-14T20:47:54.609129Z"
    },
    "papermill": {
     "duration": 0.695618,
     "end_time": "2023-01-14T20:47:54.612797",
     "exception": false,
     "start_time": "2023-01-14T20:47:53.917179",
     "status": "completed"
    },
    "tags": []
   },
   "outputs": [
    {
     "data": {
      "image/png": "[encoded data removed]",
      "text/plain": [
       "<Figure size 576x576 with 2 Axes>"
      ]
     },
     "metadata": {
      "needs_background": "light"
     },
     "output_type": "display_data"
    }
   ],
   "source": [
    "acc = history.history['accuracy']\n",
    "val_acc = history.history['val_accuracy']\n",
    "loss = history.history['loss']\n",
    "val_loss = history.history['val_loss']\n",
    "\n",
    "#plot results\n",
    "#accuracy\n",
    "plt.figure(figsize=(8, 8))\n",
    "plt.rcParams['figure.figsize'] = [16, 9]\n",
    "plt.rcParams['font.size'] = 14\n",
    "plt.rcParams['axes.grid'] = True\n",
    "plt.rcParams['figure.facecolor'] = 'white'\n",
    "plt.subplot(2, 1, 1)\n",
    "plt.plot(acc, label='Training Accuracy')\n",
    "plt.plot(val_acc, label='Validation Accuracy')\n",
    "plt.legend(loc='lower right')\n",
    "plt.ylabel('Accuracy')\n",
    "plt.title(f'MobileNetV2 \\nTraining and Validation Accuracy. \\nTrain Accuracy: {str(acc[-1])}\\nValidation Accuracy: {str(val_acc[-1])}')\n",
    "\n",
    "#loss\n",
    "plt.subplot(2, 1, 2)\n",
    "plt.plot(loss, label='Training Loss')\n",
    "plt.plot(val_loss, label='Validation Loss')\n",
    "plt.legend(loc='upper right')\n",
    "plt.ylabel('Cross Entropy')\n",
    "plt.title(f'Training and Validation Loss. \\nTrain Loss: {str(loss[-1])}\\nValidation Loss: {str(val_loss[-1])}')\n",
    "plt.xlabel('epoch')\n",
    "plt.tight_layout(pad=3.0)\n",
    "plt.show()"
   ]
  },
  {
   "cell_type": "code",
   "execution_count": 10,
   "id": "0e740653",
   "metadata": {
    "execution": {
     "iopub.execute_input": "2023-01-14T20:47:55.159096Z",
     "iopub.status.busy": "2023-01-14T20:47:55.158662Z",
     "iopub.status.idle": "2023-01-14T20:48:05.800199Z",
     "shell.execute_reply": "2023-01-14T20:48:05.799172Z"
    },
    "papermill": {
     "duration": 10.915383,
     "end_time": "2023-01-14T20:48:05.802705",
     "exception": false,
     "start_time": "2023-01-14T20:47:54.887322",
     "status": "completed"
    },
    "tags": []
   },
   "outputs": [],
   "source": [
    "# save the model \n",
    "saved_model = tf.keras.models.load_model('.')\n",
    "file_h5 = \"cassava_model.h5\"\n",
    "tf.keras.models.save_model(saved_model, file_h5)"
   ]
  }
 ],
 "metadata": {
  "kernelspec": {
   "display_name": "Python 3.10.0 ('denv')",
   "language": "python",
   "name": "python3"
  },
  "language_info": {
   "codemirror_mode": {
    "name": "ipython",
    "version": 3
   },
   "file_extension": ".py",
   "mimetype": "text/x-python",
   "name": "python",
   "nbconvert_exporter": "python",
   "pygments_lexer": "ipython3",
   "version": "3.10.0"
  },
  "papermill": {
   "default_parameters": {},
   "duration": 13577.931315,
   "end_time": "2023-01-14T20:48:09.171329",
   "environment_variables": {},
   "exception": null,
   "input_path": "__notebook__.ipynb",
   "output_path": "__notebook__.ipynb",
   "parameters": {},
   "start_time": "2023-01-14T17:01:51.240014",
   "version": "2.3.4"
  },
  "vscode": {
   "interpreter": {
    "hash": "85e466930f78b5c738745cd368c669bb6879dc86f20ed3d9ed4bb9c0741072e4"
   }
  }
 },
 "nbformat": 4,
 "nbformat_minor": 5
}
